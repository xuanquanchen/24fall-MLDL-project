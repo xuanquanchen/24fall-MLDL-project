{
 "cells": [
  {
   "cell_type": "code",
   "execution_count": 1,
   "metadata": {},
   "outputs": [],
   "source": [
    "import argparse\n",
    "from prepare_train_val import get_split\n",
    "from dataset import RoboticsDataset\n",
    "import cv2\n",
    "from models import UNet16, LinkNet34, UNet11, UNet, AlbuNet\n",
    "import torch\n",
    "from pathlib import Path\n",
    "from tqdm import tqdm\n",
    "import numpy as np\n",
    "import utils\n",
    "import prepare_data\n",
    "from torch.utils.data import DataLoader\n",
    "from torch.nn import functional as F\n",
    "from prepare_data import (original_height,\n",
    "                          original_width,\n",
    "                          h_start, w_start\n",
    "                          )\n",
    "from albumentations import Compose, Normalize"
   ]
  },
  {
   "cell_type": "code",
   "execution_count": 2,
   "metadata": {},
   "outputs": [],
   "source": [
    "def img_transform(p=1):\n",
    "    return Compose([\n",
    "        Normalize(p=1)\n",
    "    ], p=p)"
   ]
  },
  {
   "cell_type": "code",
   "execution_count": 3,
   "metadata": {},
   "outputs": [],
   "source": [
    "def predict(model, from_file_names, batch_size, to_path, problem_type, img_transform):\n",
    "    loader = DataLoader(\n",
    "        dataset=RoboticsDataset(from_file_names, transform=img_transform, mode='predict', problem_type=problem_type),\n",
    "        shuffle=False,\n",
    "        batch_size=batch_size,\n",
    "        num_workers=12,\n",
    "        pin_memory=torch.cuda.is_available()\n",
    "    )\n",
    "\n",
    "    with torch.no_grad():\n",
    "        for batch_num, (inputs, paths) in enumerate(tqdm(loader, desc='Predict')):\n",
    "            inputs = utils.cuda(inputs)\n",
    "\n",
    "            outputs = model(inputs)\n",
    "\n",
    "            for i, image_name in enumerate(paths):\n",
    "                if problem_type == 'binary':\n",
    "                    factor = prepare_data.binary_factor\n",
    "                    t_mask = (F.sigmoid(outputs[i, 0]).data.cpu().numpy() * factor).astype(np.uint8)\n",
    "                elif problem_type == 'parts':\n",
    "                    factor = prepare_data.parts_factor\n",
    "                    t_mask = (outputs[i].data.cpu().numpy().argmax(axis=0) * factor).astype(np.uint8)\n",
    "                elif problem_type == 'instruments':\n",
    "                    factor = prepare_data.instrument_factor\n",
    "                    t_mask = (outputs[i].data.cpu().numpy().argmax(axis=0) * factor).astype(np.uint8)\n",
    "\n",
    "                h, w = t_mask.shape\n",
    "\n",
    "                full_mask = np.zeros((original_height, original_width))\n",
    "                full_mask[h_start:h_start + h, w_start:w_start + w] = t_mask\n",
    "\n",
    "                instrument_folder = Path(paths[i]).parent.parent.name\n",
    "\n",
    "                (to_path / instrument_folder).mkdir(exist_ok=True, parents=True)\n",
    "\n",
    "                cv2.imwrite(str(to_path / instrument_folder / (Path(paths[i]).stem + '.png')), full_mask)"
   ]
  },
  {
   "cell_type": "code",
   "execution_count": 4,
   "metadata": {},
   "outputs": [],
   "source": [
    "def get_test_image(data_path = Path('data')):\n",
    "    train_path = data_path / 'cropped_test'\n",
    "\n",
    "    train_file_names = []\n",
    "    val_file_names = []\n",
    "\n",
    "    for instrument_id in range(1, 11):\n",
    "            val_file_names += list((train_path / ('instrument_dataset_' + str(instrument_id)) / 'images').glob('*'))\n",
    "\n",
    "    return train_file_names, val_file_names"
   ]
  },
  {
   "cell_type": "code",
   "execution_count": 5,
   "metadata": {},
   "outputs": [],
   "source": [
    "from models import UNet11, LinkNet34, UNet, UNet16, AlbuNet\n",
    "from model1 import LinkNet34_modified\n",
    "from unetplusplus import UnetPlusPlus"
   ]
  },
  {
   "cell_type": "code",
   "execution_count": 6,
   "metadata": {},
   "outputs": [
    {
     "name": "stderr",
     "output_type": "stream",
     "text": [
      "/root/miniconda3/lib/python3.12/site-packages/torchvision/models/_utils.py:208: UserWarning: The parameter 'pretrained' is deprecated since 0.13 and may be removed in the future, please use 'weights' instead.\n",
      "  warnings.warn(\n",
      "/root/miniconda3/lib/python3.12/site-packages/torchvision/models/_utils.py:223: UserWarning: Arguments other than a weight enum or `None` for 'weights' are deprecated since 0.13 and may be removed in the future. The current behavior is equivalent to passing `weights=ResNet34_Weights.IMAGENET1K_V1`. You can also use `weights=ResNet34_Weights.DEFAULT` to get the most up-to-date weights.\n",
      "  warnings.warn(msg)\n",
      "/tmp/ipykernel_49960/3528712442.py:6: FutureWarning: You are using `torch.load` with `weights_only=False` (the current default value), which uses the default pickle module implicitly. It is possible to construct malicious pickle data which will execute arbitrary code during unpickling (See https://github.com/pytorch/pytorch/blob/main/SECURITY.md#untrusted-models for more details). In a future release, the default value for `weights_only` will be flipped to `True`. This limits the functions that could be executed during unpickling. Arbitrary objects will no longer be allowed to be loaded via this mode unless they are explicitly allowlisted by the user via `torch.serialization.add_safe_globals`. We recommend you start setting `weights_only=True` for any use case where you don't have full control of the loaded file. Please open an issue on GitHub for any issues related to this experimental feature.\n",
      "  state = torch.load(str(model_path))\n"
     ]
    }
   ],
   "source": [
    "model = LinkNet34_modified(num_classes=1)\n",
    "model_name = 'LinkNet34_modified'\n",
    "model_path = f'data/models/{model_name}/{model_name}.pt'\n",
    "problem_type = 'binary'\n",
    "\n",
    "state = torch.load(str(model_path))\n",
    "state = {key.replace('module.', ''): value for key, value in state['model'].items()}\n",
    "model.load_state_dict(state)\n",
    "\n",
    "if torch.cuda.is_available():\n",
    "    model.cuda()"
   ]
  },
  {
   "cell_type": "code",
   "execution_count": 7,
   "metadata": {},
   "outputs": [
    {
     "name": "stdout",
     "output_type": "stream",
     "text": [
      "num file_names = 1200\n"
     ]
    },
    {
     "name": "stderr",
     "output_type": "stream",
     "text": [
      "Predict:   0%|          | 0/300 [00:00<?, ?it/s]/root/autodl-tmp/mldl/code/model1.py:92: UserWarning: `nn.functional.upsample` is deprecated. Use `nn.functional.interpolate` instead.\n",
      "  out = F.upsample(out, size=(h, w), mode=\"bilinear\")\n",
      "Predict: 100%|██████████| 300/300 [00:33<00:00,  9.09it/s]\n"
     ]
    }
   ],
   "source": [
    "_, file_names = get_test_image()\n",
    "print('num file_names = {}'.format(len(file_names)))\n",
    "\n",
    "output_path = Path('predictions_test') / model_name / problem_type\n",
    "output_path.mkdir(exist_ok=True, parents=True)\n",
    "\n",
    "predict(model, file_names, 4, output_path, problem_type=problem_type,img_transform=img_transform(p=1))"
   ]
  },
  {
   "cell_type": "code",
   "execution_count": 8,
   "metadata": {},
   "outputs": [],
   "source": [
    "import os\n",
    "from prepare_data import height, width, h_start, w_start\n",
    "\n",
    "target_path = f'predictions_test/{model_name}'\n",
    "train_path = 'data/cropped_test'"
   ]
  },
  {
   "cell_type": "code",
   "execution_count": 9,
   "metadata": {},
   "outputs": [],
   "source": [
    "def jaccard(y_true, y_pred):\n",
    "    intersection = (y_true * y_pred).sum()\n",
    "    union = y_true.sum() + y_pred.sum() - intersection\n",
    "    return (intersection + 1e-15) / (union + 1e-15)\n",
    "\n",
    "\n",
    "def dice(y_true, y_pred):\n",
    "    return (2 * (y_true * y_pred).sum() + 1e-15) / (y_true.sum() + y_pred.sum() + 1e-15)"
   ]
  },
  {
   "cell_type": "code",
   "execution_count": 10,
   "metadata": {},
   "outputs": [
    {
     "name": "stderr",
     "output_type": "stream",
     "text": [
      "100%|██████████| 8/8 [00:11<00:00,  1.44s/it]\n"
     ]
    }
   ],
   "source": [
    "\n",
    "result_dice = []\n",
    "result_jaccard = []\n",
    "if problem_type == 'binary':\n",
    "    for instrument_id in tqdm(range(1, 9)):\n",
    "        instrument_dataset_name = 'instrument_dataset_' + str(instrument_id)\n",
    "\n",
    "        pred_folder_name = (Path(target_path) / 'binary' / instrument_dataset_name)\n",
    "        if not os.path.exists(pred_folder_name):\n",
    "            continue\n",
    "\n",
    "        for file_name in (Path(train_path) / instrument_dataset_name / 'binary_masks').glob('*'):\n",
    "            pred_file_name = (Path(target_path) / 'binary' / instrument_dataset_name / file_name.name)\n",
    "            if not os.path.exists(pred_file_name):\n",
    "                continue\n",
    "            \n",
    "            y_true = (cv2.imread(str(file_name), 0) > 0).astype(np.uint8)\n",
    "\n",
    "            pred_image = (cv2.imread(str(pred_file_name), 0) > 255 * 0.5).astype(np.uint8)\n",
    "            y_pred = pred_image[h_start:h_start + height, w_start:w_start + width]\n",
    "\n",
    "            result_dice += [dice(y_true, y_pred)]\n",
    "            result_jaccard += [jaccard(y_true, y_pred)]"
   ]
  },
  {
   "cell_type": "code",
   "execution_count": 11,
   "metadata": {},
   "outputs": [
    {
     "name": "stdout",
     "output_type": "stream",
     "text": [
      "Dice =  0.9253892676273673 0.10979946762755784\n",
      "Jaccard =  0.8761245575755569 0.14805320313219114\n"
     ]
    }
   ],
   "source": [
    "print('Dice = ', np.mean(result_dice), np.std(result_dice))\n",
    "print('Jaccard = ', np.mean(result_jaccard), np.std(result_jaccard))"
   ]
  },
  {
   "cell_type": "code",
   "execution_count": 14,
   "metadata": {},
   "outputs": [],
   "source": [
    "from draw_gif import draw_contour,generate_gif_pillow,add_color\n",
    "import os"
   ]
  },
  {
   "cell_type": "code",
   "execution_count": 10,
   "metadata": {},
   "outputs": [],
   "source": [
    "import os\n",
    "\n",
    "_, mask_names = get_test_image(Path(f'predictions_test/{model_name}/binary'))\n",
    "to_path = Path('contour') / model_name / problem_type\n",
    "to_path.mkdir(exist_ok=True, parents=True)\n",
    "\n",
    "for i, image_name in enumerate(file_names):\n",
    "    instrument_folder = Path(file_names[i]).parent.parent.name\n",
    "\n",
    "    save_path = Path(to_path) / instrument_folder\n",
    "    if not os.path.exists(save_path):\n",
    "        os.mkdir(save_path)\n",
    "    \n",
    "    last = image_name.stem\n",
    "    raw_path = Path('data/test') / instrument_folder / 'left_frames' / (last+'.png')\n",
    "    mask_path = Path(f'predictions_test/{model_name}/binary') / instrument_folder / (last+'.png')\n",
    "    save_path = Path(to_path) / instrument_folder / (last+'.png')\n",
    "    # print(raw_path)\n",
    "    # print(mask_path)\n",
    "    # print(save_path)\n",
    "    contour = draw_contour(raw_path,mask_path,save_path)\n",
    "        \n",
    "    # (to_path / instrument_folder).mkdir(exist_ok=True, parents=True)\n",
    "\n",
    "    # cv2.imwrite(str(to_path / instrument_folder / (Path(paths[i]).stem + '.png')), full_mask)\n"
   ]
  },
  {
   "cell_type": "code",
   "execution_count": 15,
   "metadata": {},
   "outputs": [],
   "source": [
    "_, mask_names = get_test_image(Path(f'predictions_test/{model_name}/binary'))\n",
    "to_path = Path('colored') / model_name / problem_type\n",
    "to_path.mkdir(exist_ok=True, parents=True)\n",
    "\n",
    "for i, image_name in enumerate(file_names):\n",
    "    instrument_folder = Path(file_names[i]).parent.parent.name\n",
    "\n",
    "    save_path = Path(to_path) / instrument_folder\n",
    "    if not os.path.exists(save_path):\n",
    "        os.mkdir(save_path)\n",
    "    \n",
    "    last = image_name.stem\n",
    "    raw_path = Path('data/test') / instrument_folder / 'left_frames' / (last+'.png')\n",
    "    mask_path = Path(f'predictions_test/{model_name}/binary') / instrument_folder / (last+'.png')\n",
    "    save_path = Path(to_path) / instrument_folder / (last+'.png')\n",
    "    # print(raw_path)\n",
    "    # print(mask_path)\n",
    "    # print(save_path)\n",
    "    contour = add_color(raw_path,mask_path,save_path)"
   ]
  },
  {
   "cell_type": "code",
   "execution_count": 11,
   "metadata": {},
   "outputs": [],
   "source": [
    "mask='predictions_test/LinkNet34/binary/instrument_dataset_1/frame225.png'\n",
    "image='data/test/instrument_dataset_2/left_frames/frame225.png'\n",
    "save='test.png'\n",
    "\n",
    "\n",
    "contour = draw_contour(image,mask,save)"
   ]
  },
  {
   "cell_type": "code",
   "execution_count": 16,
   "metadata": {},
   "outputs": [
    {
     "name": "stdout",
     "output_type": "stream",
     "text": [
      "动图已保存为 gif/instrument_dataset_1.gif\n",
      "动图已保存为 gif/instrument_dataset_2.gif\n",
      "动图已保存为 gif/instrument_dataset_3.gif\n",
      "动图已保存为 gif/instrument_dataset_4.gif\n",
      "动图已保存为 gif/instrument_dataset_5.gif\n",
      "动图已保存为 gif/instrument_dataset_6.gif\n",
      "动图已保存为 gif/instrument_dataset_7.gif\n",
      "动图已保存为 gif/instrument_dataset_8.gif\n",
      "动图已保存为 gif/instrument_dataset_9.gif\n",
      "动图已保存为 gif/instrument_dataset_10.gif\n"
     ]
    }
   ],
   "source": [
    "if not os.path.exists('gif'):\n",
    "    os.mkdir('gif')\n",
    "for i in range(1,11):\n",
    "    image_folder = Path(f'colored/{model_name}/binary/instrument_dataset_{i}')\n",
    "    output_path = Path(f'gif/instrument_dataset_{i}.gif')\n",
    "    generate_gif_pillow(image_folder, output_path, duration=500, loop=0)"
   ]
  },
  {
   "cell_type": "code",
   "execution_count": null,
   "metadata": {},
   "outputs": [],
   "source": []
  }
 ],
 "metadata": {
  "kernelspec": {
   "display_name": "Python 3 (ipykernel)",
   "language": "python",
   "name": "python3"
  },
  "language_info": {
   "codemirror_mode": {
    "name": "ipython",
    "version": 3
   },
   "file_extension": ".py",
   "mimetype": "text/x-python",
   "name": "python",
   "nbconvert_exporter": "python",
   "pygments_lexer": "ipython3",
   "version": "3.12.3"
  }
 },
 "nbformat": 4,
 "nbformat_minor": 4
}
